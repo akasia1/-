{
  "nbformat": 4,
  "nbformat_minor": 0,
  "metadata": {
    "colab": {
      "name": "케이블 기초.ipynb",
      "provenance": [],
      "authorship_tag": "ABX9TyNrqVblyqMwrYxf/cLXQufm",
      "include_colab_link": true
    },
    "kernelspec": {
      "name": "python3",
      "display_name": "Python 3"
    }
  },
  "cells": [
    {
      "cell_type": "markdown",
      "metadata": {
        "id": "view-in-github",
        "colab_type": "text"
      },
      "source": [
        "<a href=\"https://colab.research.google.com/github/akasia1/Information-system-CCNA-/blob/master/%EC%BC%80%EC%9D%B4%EB%B8%94_%EA%B8%B0%EC%B4%88.ipynb\" target=\"_parent\"><img src=\"https://colab.research.google.com/assets/colab-badge.svg\" alt=\"Open In Colab\"/></a>"
      ]
    },
    {
      "cell_type": "markdown",
      "metadata": {
        "id": "tFq_hzulFwRj",
        "colab_type": "text"
      },
      "source": [
        "#CCNA 네트워크 기초\n"
      ]
    },
    {
      "cell_type": "markdown",
      "metadata": {
        "id": "p4xWbqt5F3d6",
        "colab_type": "text"
      },
      "source": [
        "###네트워크 \n",
        "\n",
        "-컴퓨터가 대화를 할수있는 공간\n",
        "\n",
        "-컴퓨터가 대화를 하기 위해선 통로가 있어야 하고 이를 케이블이라고 한다.\n",
        "\n",
        "# -네트워크를 만들어 내는 케이블의 종류는 여라가지가 있고, 그중 UTP 케이블이 가장 많이 사용 됨(값이 싸기 때문이다."
      ]
    },
    {
      "cell_type": "markdown",
      "metadata": {
        "id": "EqwLmbngGamC",
        "colab_type": "text"
      },
      "source": [
        "###Ethernet Connectors\n",
        "\n",
        "- Ethernet은 LAN을 만드는 방법중 하나.\n",
        "\n",
        "- LAN(Local Area Network) => 작은네트워크\n",
        "\n"
      ]
    },
    {
      "cell_type": "markdown",
      "metadata": {
        "id": "JJ0qCAjYHEcp",
        "colab_type": "text"
      },
      "source": [
        "###UTP\n",
        "\n",
        "- Unshielded Twist Pair의 약자\n",
        "\n",
        "- 보호되지않은, 꼬여있는, 쌍으로 되어있는 케이블\n",
        "\n",
        "- 4가지 색깔 (황,녹,파,갈) 로 되어 있고 그중 흰색이 섞여 있는 것을 \n",
        "\n",
        "황띠 녹띠 파띠 갈띠 라고 표현함\n"
      ]
    },
    {
      "cell_type": "markdown",
      "metadata": {
        "id": "NPfYOEdyHiWS",
        "colab_type": "text"
      },
      "source": [
        "###네트워크 장비\n",
        "\n",
        "- 네트워크 장비에는 \n",
        "\n",
        "컴퓨터---라우터\n",
        "\n",
        "스위치---허브: 여러대의 PC를 연결하는 장비\n"
      ]
    },
    {
      "cell_type": "markdown",
      "metadata": {
        "id": "ndpbqAibH6cC",
        "colab_type": "text"
      },
      "source": [
        "##Cable(케이블)\n",
        "\n",
        "###1.Straight-Through Cable\n",
        "\n",
        "- 다이렉트 케이블 이라고 함.\n",
        "\n",
        "- 서로다른 장비를 연결할때 사용하는 케이블\n",
        "\n",
        "PC-스위치,PC-허브,라우터-허브,PC-공유기\n",
        "\n",
        "모양 및 만드는 방법 양쪽의 커넥터에 연결되는 색배열을 똑같이 만들어 주면된다.\n",
        "\n",
        "순서는 황띠-황-초띠-파-파띠-초-갈띠-갈 이며 커넥터즈 정면을 바라보고 순서대로 삽입한다.\n",
        "\n",
        "###2.Crossover Cable\n",
        "- 크로스 케이블 이라고도 함.\n",
        "\n",
        "- 같은 장비를 연결해줄때 사용한다.\n",
        "\n",
        "- PC-PC ,PC-라우터, 라우터-라우터, 스위치-스위치, 스위치-허브, 허브-허브\n",
        "\n",
        "선 배열 순서\n",
        "\n",
        "한쪽은 다이렉트 케이블과 동일하게 \n",
        "\n",
        "황띠 황 초띠 파 파띠 초 갈띠 갈 이나 반대쪽 커넥터에 1번 줄 3번줄 교채 2번 과 6번 색을 반대로 연결해야함.\n",
        "\n",
        "반대쪽 커넥터즈의 색 순서는\n",
        "\n",
        "초띠 초 황띠 파 파띠 황 갈띠 갈 이 된다.\n",
        "\n",
        "\n",
        "###3.Rollover Cable\n",
        "\n",
        "- 콘솔 케이블이라고도 함.\n",
        "\n",
        "- 다이렉트 케이블과 크로스 케이블이 장비와 장비사이를 연결하는 케이블이라면 \n",
        "롤오벌 케이블은 장비와 사람과 연결하는 케이블 이다.\n",
        "\n",
        "- 장비마다 하나의 콘솔 포트를 가지고 있음.\n",
        "\n",
        "- 사람이 컴퓨터의 터미널 프로그램을 통해 장비에게 명령을 내림.\n",
        "\n",
        "- 전용 케이블이 있으나 만약에 없다면 UTP 케이블로도 만들어낼수 있고, 만드는 방법은\n",
        "\n",
        "한쪽과 한쪽을 거울 대칭으로 맏르면 된다\n",
        "\n",
        "황띠 황 초띠 파 파띠 초 갈띠 갈\n",
        "\n",
        "<->\n",
        "\n",
        "\n",
        "갈 갈띠 초 파띠 파 초띠 황 황띠\n",
        "\n",
        "###4.Serial Cable\n",
        "\n",
        "- 네트워크와 네트워크를 통신시키기 위해서는 '라우터'라는 장비가 필요함.\n",
        "\n",
        "- 라우터와 라우터를 연결하는 케이블.\n",
        "\n",
        "Q) 라우터와 라우터는 같은 장비이니까 크로스 케이블로 연결하면 되지 않는가?\n",
        "\n",
        "A) 맞지만, UTP케이블의 특징중 하나인 최대 전송거리가 100M라는 특징때문에 먼거리를 연결하기 힘듬.\n",
        "- 단점 :느리다\n",
        "- 전송속도: 2Mbps(bit per second)\n",
        "- 먼거리의 장비를 연결하는 케이블\n",
        "- 현재는 광케이블로 대체\n",
        "\n",
        "\n",
        "- DCE,DTE,Clock rate\n",
        "- clock rate: 각장비는 자신만의 전송 속동를 가지고 있고, 원활한 통신을 위해서 속도를 맞추는 과정.(속도 동기화)\n",
        "\n",
        "--기본연결형태\n",
        " \n",
        " 라우터 - CSU/DSU 모뎀 - 인터넷 -CSU/DSU 모뎀 - 라우터\n",
        "\n",
        " clock rate 를 수행하는 장비 = CSU/DSU모뎀 = DCE\n",
        "\n",
        " CSU/DSU모뎀이 정한 속도에 만주츤 역할 = 라우터 = DTE\n",
        "\n",
        " - 만약 ,CSU/DSU 모뎀이 없는 연결 형태라면 \n",
        "\n",
        " 즉, 라우터 라우터 라면 어느한쪽의 라우터가 DCE 가 되어야 한다.\n",
        "\n",
        "\n",
        " 픽스형,고정형 <--> 모듈형, 확장형\n",
        "\n",
        "\n",
        " \n"
      ]
    },
    {
      "cell_type": "markdown",
      "metadata": {
        "id": "15PDJsDfLyLj",
        "colab_type": "text"
      },
      "source": [
        "\n",
        "###전송단위 \n",
        "\n",
        "컴퓨터는 0 또는 1만 을 사용해서 통신을 함.\n",
        "0또는 1을 넣을수 있는 하나의 공간을 bit라고 표현.\n",
        "\n",
        "8bit = 1byte\n",
        "\n",
        "1000 byte = 1 Kbyte\n",
        "\n",
        "1000 kbyte = 1 Mbyte\n",
        "\n",
        "\n"
      ]
    },
    {
      "cell_type": "markdown",
      "metadata": {
        "id": "OMU90j3fPH86",
        "colab_type": "text"
      },
      "source": [
        "Ethernet: 10Mbps\n",
        "\n",
        "FastEthernet:100Mbps\n",
        "\n",
        "GigabitEthernet:1000Mbps\n"
      ]
    }
  ]
}